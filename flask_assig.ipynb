{
 "cells": [
  {
   "cell_type": "raw",
   "id": "f7acfe9e-d7fa-4025-b193-9c0d90ab1409",
   "metadata": {},
   "source": [
    "Question-No.1\n",
    "\n",
    "In the context of web development and HTTP (Hypertext Transfer Protocol), the GET and POST methods are two of the most commonly used methods for communicating with a web server.\n",
    "\n",
    "GET Method:\n",
    "\n",
    "The GET method is used to request data from a web server. When a client sends a GET request, it appends the data to be sent in the URL's query string. This makes the data visible in the URL, and it can be bookmarked, cached, and shared easily. It is commonly used for retrieving data from the server, such as fetching web pages, images, or other resources.\n",
    "\n",
    "POST Method:\n",
    "\n",
    "The POST method is used to submit data to be processed to a web server. When a client sends a POST request, the data is sent in the request body, rather than being appended to the URL like in a GET request. This makes POST requests more secure than GET requests for sensitive data, as the data is not visible in the URL."
   ]
  },
  {
   "cell_type": "raw",
   "id": "ecebedee-6732-443d-a47e-780fb32976f3",
   "metadata": {},
   "source": [
    "Question-No.2\n",
    "\n",
    "In Flask, the 'request' object is used to handle incoming client requests made to the web server. It represents the HTTP request sent by a client to the Flask application and contains all the data and information associated with that request. \n",
    "\n",
    "Accessing Request Data: The request object allows you to access the data sent by the client in the request. This includes data from HTML form submissions, URL parameters, JSON data, cookies, and more. For example, you can use request.form to access form data submitted via POST requests or request.args to access URL parameters in GET requests.\n",
    "\n",
    "Request Methods: The request object provides information about the HTTP method used in the request, such as GET, POST, PUT, DELETE, etc. This helps the Flask application determine the action to be taken based on the type of request.\n",
    "\n",
    "HTTP Headers: You can access various HTTP headers sent by the client through the request.headers attribute. This is useful when you need to extract information like user agent, referer, or authentication tokens.\n",
    "\n",
    "File Uploads: The request object allows you to handle file uploads submitted through an HTML form with the enctype=\"multipart/form-data\". You can access uploaded files using request.files.\n",
    "\n",
    "Cookies: The request object enables you to access and manipulate cookies sent by the client using request.cookies. You can read, set, and delete cookies as needed.\n",
    "\n",
    "Session: Flask's session management also utilizes the request object to handle session data for each client."
   ]
  },
  {
   "cell_type": "raw",
   "id": "43bfdb98-8b4f-4bc8-8842-4cf0f5e61fb6",
   "metadata": {},
   "source": [
    "Question-No.3\n",
    "\n",
    "Flask class provides the redirect() function which redirects the user to some specified URL with the specified status code.\n",
    "\n",
    "An HTTP status code is a response from the server to the request of the browser. When we visit a website, a request is sent to the server, and the server then responds to the browser's request with a three-digit code: the HTTP status code. This status code also represents the error. Example--\n",
    "\n",
    "\n",
    "from flask import Flask, redirect, url_for\n",
    "\n",
    "app = Flask(__name__)\n",
    "\n",
    "@app.route('/')\n",
    "def index():\n",
    "    # Redirect to the '/hello' route\n",
    "    return redirect(url_for('hello kuldeep'))\n",
    "\n",
    "@app.route('/hello')\n",
    "def hello():\n",
    "    return \"Welcome, to my World!\"\n"
   ]
  },
  {
   "cell_type": "raw",
   "id": "64abded7-804b-4fb2-9ef3-a033b28e1dae",
   "metadata": {},
   "source": [
    "Question-No.4\n",
    "\n",
    "n Flask, templates are files that contain the HTML markup with placeholders (variables and control structures) for dynamically generated content. By using templates, you can create dynamic web pages that can display different data or render different layouts based on the user's input or application state.\n",
    "\n",
    "The 'render_template()' function is used to render a template and generate the final HTML that will be sent as a response to the client's web browser. This function takes the template filename as an argument and, optionally, any data that needs to be passed to the template for rendering.\n",
    "\n",
    "For Example--\n",
    "\n",
    "Create a template file named 'index.html'\n",
    "<!DOCTYPE html>\n",
    "<html>\n",
    "<head>\n",
    "    <title>{{ title }}</title>\n",
    "</head>\n",
    "<body>\n",
    "    <h1>Hello, {{ name }}!</h1>\n",
    "</body>\n",
    "</html>\n",
    "\n",
    "\n",
    "Now use the 'render_template()'function for display\n",
    "\n",
    "from flask import Flask, render_template\n",
    "\n",
    "app = Flask(__name__)\n",
    "\n",
    "@app.route('/')\n",
    "def index():\n",
    "    return render_template('index.html', title='Welcome to My Website', name='John')\n"
   ]
  }
 ],
 "metadata": {
  "kernelspec": {
   "display_name": "Python 3 (ipykernel)",
   "language": "python",
   "name": "python3"
  },
  "language_info": {
   "codemirror_mode": {
    "name": "ipython",
    "version": 3
   },
   "file_extension": ".py",
   "mimetype": "text/x-python",
   "name": "python",
   "nbconvert_exporter": "python",
   "pygments_lexer": "ipython3",
   "version": "3.10.8"
  }
 },
 "nbformat": 4,
 "nbformat_minor": 5
}
